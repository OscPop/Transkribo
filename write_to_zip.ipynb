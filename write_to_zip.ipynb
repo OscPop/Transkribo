{
 "cells": [
  {
   "attachments": {},
   "cell_type": "markdown",
   "metadata": {},
   "source": [
    "# Writing to zip-file\n",
    "This notebook was intented to automatically bundle together some files and add them to a zip file. "
   ]
  },
  {
   "cell_type": "code",
   "execution_count": 13,
   "metadata": {},
   "outputs": [],
   "source": [
    "import zipfile\n",
    "import os\n",
    "\n",
    "\n",
    "folder_path = os.path.join(\"\", \" \")\n",
    "zip_name = \"test\""
   ]
  },
  {
   "cell_type": "code",
   "execution_count": null,
   "metadata": {},
   "outputs": [],
   "source": [
    "files = (file for file in os.listdir(folder_path) if os.path.isfile(os.path.join(folder_path, file)))\n",
    "with zipfile.ZipFile(os.path.join(folder_path, f\"{zip_name}.zip\"), mode=\"w\") as zip_f:\n",
    "    for file in files:\n",
    "        zip_f.write(os.path.join(folder_path, file))\n",
    "\n",
    "if zipfile.is_zipfile(os.path.join(folder_path, f\"{zip_name}.zip\")):\n",
    "    with zipfile.ZipFile(\"test.zip\", \"r\") as zip_f:\n",
    "        zip_f.printdir()\n",
    "else:\n",
    "    print(\"File is not a zip file ...\")"
   ]
  },
  {
   "cell_type": "code",
   "execution_count": 20,
   "metadata": {},
   "outputs": [],
   "source": [
    "files = (file for file in os.listdir(folder_path) if os.path.isfile(os.path.join(folder_path, file)))\n",
    "with zipfile.ZipFile(os.path.join(folder_path, f\"{zip_name}.zip\"), mode=\"w\") as zip_f:\n",
    "    for file in files:\n",
    "        zip_f.write(os.path.join(folder_path, file))"
   ]
  }
 ],
 "metadata": {
  "kernelspec": {
   "display_name": "whisper_env",
   "language": "python",
   "name": "python3"
  },
  "language_info": {
   "codemirror_mode": {
    "name": "ipython",
    "version": 3
   },
   "file_extension": ".py",
   "mimetype": "text/x-python",
   "name": "python",
   "nbconvert_exporter": "python",
   "pygments_lexer": "ipython3",
   "version": "3.9.13"
  },
  "orig_nbformat": 4
 },
 "nbformat": 4,
 "nbformat_minor": 2
}
