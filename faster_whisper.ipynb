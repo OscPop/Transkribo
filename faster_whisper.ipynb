{
 "cells": [
  {
   "attachments": {},
   "cell_type": "markdown",
   "metadata": {},
   "source": [
    "# faster_whisper\n",
    "A faster implementation of the whisper model by OpenAI. Unfortunately I can't try it out on GPU, so I had to make do with a CPU."
   ]
  },
  {
   "cell_type": "code",
   "execution_count": 87,
   "metadata": {},
   "outputs": [],
   "source": [
    "import os\n",
    "from faster_whisper import WhisperModel\n",
    "\n",
    "\n",
    "# Paths\n",
    "folder_path = os.path.join(\"\", \"\")\n",
    "if not os.path.exists(folder_path):\n",
    "    print(f\"Folder does not exist: '{folder_path}'\")\n",
    "\n",
    "audio_file_name = \"audio.mp3\"\n",
    "audio_file_path = os.path.join(folder_path, audio_file_name)"
   ]
  },
  {
   "cell_type": "code",
   "execution_count": 80,
   "metadata": {},
   "outputs": [],
   "source": [
    "\n",
    "# Parameters\n",
    "model_size = \"large-v2\"\n",
    "beam_size = 7\n",
    "best_of = 5\n",
    "length_penalty = 0.05\n",
    "\n",
    "model = WhisperModel(model_size, device=\"cpu\", compute_type=\"int8\")\n",
    "\n",
    "segments, info = model.transcribe(audio=audio_file_path, \n",
    "                                  language=\"sv\",\n",
    "                                  task=\"transcribe\",\n",
    "                                  beam_size=beam_size,\n",
    "                                  best_of=best_of,\n",
    "                                  length_penalty=length_penalty)"
   ]
  },
  {
   "cell_type": "code",
   "execution_count": 81,
   "metadata": {},
   "outputs": [],
   "source": [
    "# Är en iterator, måste göra så här för att starta transkriberingen\n",
    "segments = list(segments)"
   ]
  },
  {
   "cell_type": "code",
   "execution_count": null,
   "metadata": {},
   "outputs": [],
   "source": [
    "segments"
   ]
  },
  {
   "cell_type": "code",
   "execution_count": 83,
   "metadata": {},
   "outputs": [],
   "source": [
    "# .tsv-fil\n",
    "\n",
    "file_name = f\"size_{model_size}_beamSize_{beam_size}_bestOf_{best_of}_lengthPen_{length_penalty}.tsv\"\n",
    "\n",
    "with open(os.path.join(folder_path, file_name), \"w\", encoding=\"utf-8\") as f:\n",
    "    print(\"start\", \"end\", \"text\", sep=\"\\t\", file=f)\n",
    "    for segment in segments:\n",
    "        print(round(1000 * segment.start), file=f, end=\"\\t\")\n",
    "        print(round(1000 * segment.end), file=f, end=\"\\t\")\n",
    "        print(segment.text.strip().replace(\"\\t\", \" \"), file=f, flush=True)"
   ]
  },
  {
   "cell_type": "code",
   "execution_count": null,
   "metadata": {},
   "outputs": [],
   "source": [
    "for segment in segments:\n",
    "    print(segment.text)"
   ]
  },
  {
   "cell_type": "code",
   "execution_count": null,
   "metadata": {},
   "outputs": [],
   "source": []
  }
 ],
 "metadata": {
  "kernelspec": {
   "display_name": "whisper_env",
   "language": "python",
   "name": "python3"
  },
  "language_info": {
   "codemirror_mode": {
    "name": "ipython",
    "version": 3
   },
   "file_extension": ".py",
   "mimetype": "text/x-python",
   "name": "python",
   "nbconvert_exporter": "python",
   "pygments_lexer": "ipython3",
   "version": "3.9.13"
  },
  "orig_nbformat": 4
 },
 "nbformat": 4,
 "nbformat_minor": 2
}
