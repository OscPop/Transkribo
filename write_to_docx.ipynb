{
 "cells": [
  {
   "cell_type": "code",
   "execution_count": null,
   "metadata": {},
   "outputs": [],
   "source": [
    "%pip install python-docx"
   ]
  },
  {
   "cell_type": "code",
   "execution_count": null,
   "metadata": {},
   "outputs": [],
   "source": [
    "import os\n",
    "from docx import Document\n",
    "\n",
    "\n",
    "person = \"\"\n",
    "project = \"\"\n",
    "\n",
    "folder_path = os.path.join(person, project)\n",
    "if not os.path.exists(folder_path):\n",
    "    print(\"Folder does not exist\")"
   ]
  },
  {
   "cell_type": "code",
   "execution_count": null,
   "metadata": {},
   "outputs": [],
   "source": [
    "# Gör .docx utan talare\n",
    "\n",
    "file_name = \"default_whisper_20230124_large-v2_radbryte.txt\"\n",
    "\n",
    "with open(os.path.join(folder_path, file_name), \"r\", encoding=\"utf-8\") as f:\n",
    "    lines = [line.strip() for line in f.readlines()]\n",
    "\n",
    "document = Document()\n",
    "\n",
    "document.add_heading(f\"{project} - transkribering\", 0)\n",
    "#document.add_page_break()\n",
    "\n",
    "p = document.add_paragraph()\n",
    "\n",
    "for line in lines:\n",
    "    run = p.add_run(str(line)+\" \")\n",
    "    run.add_break()\n",
    "    #font = run.font\n",
    "    #font.color.rgb = shared.RGBColor(200, 0, 0)\n",
    "\n",
    "document.save(os.path.join(folder_path, f\"{project} transkribering.docx\"))"
   ]
  }
 ],
 "metadata": {
  "language_info": {
   "name": "python"
  },
  "orig_nbformat": 4
 },
 "nbformat": 4,
 "nbformat_minor": 2
}
