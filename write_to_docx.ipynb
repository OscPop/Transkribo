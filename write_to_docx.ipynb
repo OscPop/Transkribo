{
 "cells": [
  {
   "attachments": {},
   "cell_type": "markdown",
   "metadata": {},
   "source": [
    "# Writing to docx\n",
    "This notebook shows some ways of putting the transcribed audio into docx files (word files). This is often a preferable format for the end user. The process relies on the library `python-docx`, which has functionality to read from and write to docx files."
   ]
  },
  {
   "cell_type": "code",
   "execution_count": null,
   "metadata": {},
   "outputs": [],
   "source": [
    "%pip install python-docx"
   ]
  },
  {
   "cell_type": "code",
   "execution_count": 6,
   "metadata": {},
   "outputs": [],
   "source": [
    "import os\n",
    "from docx import Document\n",
    "\n",
    "\n",
    "\n",
    "folder_path = os.path.join(\"Data\", \"Example 2\")\n",
    "if not os.path.exists(folder_path):\n",
    "    print(\"Folder does not exist\")"
   ]
  },
  {
   "cell_type": "code",
   "execution_count": 7,
   "metadata": {},
   "outputs": [],
   "source": [
    "# Make a docx file from the linebreak separated text file\n",
    "\n",
    "file_name = \"default_whisper_20230124_large-v2_radbryte.txt\"\n",
    "\n",
    "with open(os.path.join(folder_path, file_name), \"r\", encoding=\"utf-8\") as f:\n",
    "    lines = [line.strip() for line in f.readlines()]\n",
    "\n",
    "document = Document()\n",
    "\n",
    "document.add_heading(f\"Transcription\", 0)\n",
    "#document.add_page_break()\n",
    "\n",
    "p = document.add_paragraph()\n",
    "\n",
    "for line in lines:\n",
    "    run = p.add_run(str(line)+\" \")\n",
    "    run.add_break()\n",
    "    #font = run.font\n",
    "    #font.color.rgb = shared.RGBColor(200, 0, 0)\n",
    "\n",
    "document.save(os.path.join(folder_path, \"Transcription.docx\"))"
   ]
  }
 ],
 "metadata": {
  "kernelspec": {
   "display_name": ".venv",
   "language": "python",
   "name": "python3"
  },
  "language_info": {
   "codemirror_mode": {
    "name": "ipython",
    "version": 3
   },
   "file_extension": ".py",
   "mimetype": "text/x-python",
   "name": "python",
   "nbconvert_exporter": "python",
   "pygments_lexer": "ipython3",
   "version": "3.9.13"
  },
  "orig_nbformat": 4
 },
 "nbformat": 4,
 "nbformat_minor": 2
}
