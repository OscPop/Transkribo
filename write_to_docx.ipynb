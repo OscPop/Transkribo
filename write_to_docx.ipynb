{
 "cells": [
  {
   "attachments": {},
   "cell_type": "markdown",
   "metadata": {},
   "source": [
    "# Writing to docx\n",
    "This notebook shows some ways of putting the transcribed audio into docx files (word files). This is often a preferable format for the end user. The process relies on the library `python-docx`, which has functionality to read from and write to docx files."
   ]
  },
  {
   "cell_type": "code",
   "execution_count": null,
   "metadata": {},
   "outputs": [],
   "source": [
    "%pip install python-docx"
   ]
  },
  {
   "cell_type": "code",
   "execution_count": 5,
   "metadata": {},
   "outputs": [],
   "source": [
    "import os\n",
    "from docx import Document\n",
    "import pandas as pd\n",
    "\n",
    "\n",
    "project_name = \"Example 1\"\n",
    "folder_path = os.path.join(\"Projects\", project_name)\n",
    "if not os.path.exists(folder_path):\n",
    "    print(\"Folder does not exist\")"
   ]
  },
  {
   "attachments": {},
   "cell_type": "markdown",
   "metadata": {},
   "source": [
    "## No speaker information"
   ]
  },
  {
   "cell_type": "code",
   "execution_count": 3,
   "metadata": {},
   "outputs": [],
   "source": [
    "# Make a docx file from the linebreak separated text file\n",
    "\n",
    "file_name = \"default_whisper_20230124_large-v2_linebreak.txt\"\n",
    "\n",
    "with open(os.path.join(folder_path, file_name), \"r\", encoding=\"utf-8\") as f:\n",
    "    lines = [line.strip() for line in f.readlines()]\n",
    "\n",
    "document = Document()\n",
    "\n",
    "document.add_heading(f\"{project_name} - transcription\", 0)\n",
    "#document.add_page_break()\n",
    "\n",
    "p = document.add_paragraph()\n",
    "\n",
    "for line in lines:\n",
    "    run = p.add_run(str(line)+\" \")\n",
    "    run.add_break()\n",
    "    #font = run.font\n",
    "    #font.color.rgb = shared.RGBColor(200, 0, 0)\n",
    "\n",
    "document.save(os.path.join(folder_path, \"Transcription.docx\"))"
   ]
  },
  {
   "attachments": {},
   "cell_type": "markdown",
   "metadata": {},
   "source": [
    "## Speaker information present\n",
    "If we know who's speaking, we can separate the speech from the different speakers. If saved as a `tsv`, we can iterate over the rows to get the information."
   ]
  },
  {
   "cell_type": "code",
   "execution_count": 8,
   "metadata": {},
   "outputs": [
    {
     "data": {
      "text/html": [
       "<div>\n",
       "<style scoped>\n",
       "    .dataframe tbody tr th:only-of-type {\n",
       "        vertical-align: middle;\n",
       "    }\n",
       "\n",
       "    .dataframe tbody tr th {\n",
       "        vertical-align: top;\n",
       "    }\n",
       "\n",
       "    .dataframe thead th {\n",
       "        text-align: right;\n",
       "    }\n",
       "</style>\n",
       "<table border=\"1\" class=\"dataframe\">\n",
       "  <thead>\n",
       "    <tr style=\"text-align: right;\">\n",
       "      <th></th>\n",
       "      <th>start</th>\n",
       "      <th>end</th>\n",
       "      <th>speaker</th>\n",
       "      <th>text</th>\n",
       "    </tr>\n",
       "  </thead>\n",
       "  <tbody>\n",
       "    <tr>\n",
       "      <th>0</th>\n",
       "      <td>0</td>\n",
       "      <td>4000</td>\n",
       "      <td>Annie Lööf</td>\n",
       "      <td>Det är 16 000 äldre som har...</td>\n",
       "    </tr>\n",
       "    <tr>\n",
       "      <th>1</th>\n",
       "      <td>4000</td>\n",
       "      <td>7000</td>\n",
       "      <td>Annie Lööf</td>\n",
       "      <td>...bo på särskilda äldreboenden.</td>\n",
       "    </tr>\n",
       "    <tr>\n",
       "      <th>2</th>\n",
       "      <td>7000</td>\n",
       "      <td>11000</td>\n",
       "      <td>Annie Lööf</td>\n",
       "      <td>Och varannat besök på en vårdcentral görs hos ...</td>\n",
       "    </tr>\n",
       "    <tr>\n",
       "      <th>3</th>\n",
       "      <td>11000</td>\n",
       "      <td>15000</td>\n",
       "      <td>Annie Lööf</td>\n",
       "      <td>Jag tycker det är för mycket storstadsfokus i ...</td>\n",
       "    </tr>\n",
       "    <tr>\n",
       "      <th>4</th>\n",
       "      <td>15000</td>\n",
       "      <td>20000</td>\n",
       "      <td>Annie Lööf</td>\n",
       "      <td>För tar vi oss ut på landsbygden så är det ju ...</td>\n",
       "    </tr>\n",
       "  </tbody>\n",
       "</table>\n",
       "</div>"
      ],
      "text/plain": [
       "   start    end     speaker                                               text\n",
       "0      0   4000  Annie Lööf                     Det är 16 000 äldre som har...\n",
       "1   4000   7000  Annie Lööf                   ...bo på särskilda äldreboenden.\n",
       "2   7000  11000  Annie Lööf  Och varannat besök på en vårdcentral görs hos ...\n",
       "3  11000  15000  Annie Lööf  Jag tycker det är för mycket storstadsfokus i ...\n",
       "4  15000  20000  Annie Lööf  För tar vi oss ut på landsbygden så är det ju ..."
      ]
     },
     "execution_count": 8,
     "metadata": {},
     "output_type": "execute_result"
    }
   ],
   "source": [
    "# Read the tsv file into a pandas dataframe\n",
    "df = pd.read_csv(os.path.join(folder_path, \"text_whisper_offset_adjusted.tsv\"), sep=\"\\t\")\n",
    "\n",
    "print(f\"Shape of df: {df.shape}\")\n",
    "df.head()"
   ]
  },
  {
   "cell_type": "code",
   "execution_count": 17,
   "metadata": {},
   "outputs": [],
   "source": [
    "# Make a docx file from the tsv file with speaker names\n",
    "\n",
    "document = Document()\n",
    "\n",
    "document.add_heading(f\"{project_name} - transcription\", 0)\n",
    "\n",
    "p = document.add_paragraph()\n",
    "\n",
    "last_speaker, curr_speaker = \"\", \"\"\n",
    "\n",
    "# Loop through the dataframe and add a new paragraph for each speaker\n",
    "for row in range(df.shape[0]):\n",
    "    curr_speaker = df.loc[row, \"speaker\"]\n",
    "\n",
    "    # If the speaker is new, add a new paragraph\n",
    "    if curr_speaker != last_speaker:\n",
    "        run = p.add_run()\n",
    "        run.add_break()\n",
    "        run.add_break()\n",
    "        p.add_run(str(curr_speaker)).bold = True\n",
    "        run = p.add_run()\n",
    "        run.add_break()\n",
    "        last_speaker = curr_speaker\n",
    "\n",
    "    # Add the text to the paragraph\n",
    "    run = p.add_run(str(df.loc[row, \"text\"])+\" \")\n",
    "    #run.add_break()\n",
    "\n",
    "# Save the document\n",
    "document.save(os.path.join(folder_path, \"Transcription fixed.docx\"))"
   ]
  }
 ],
 "metadata": {
  "kernelspec": {
   "display_name": ".venv",
   "language": "python",
   "name": "python3"
  },
  "language_info": {
   "codemirror_mode": {
    "name": "ipython",
    "version": 3
   },
   "file_extension": ".py",
   "mimetype": "text/x-python",
   "name": "python",
   "nbconvert_exporter": "python",
   "pygments_lexer": "ipython3",
   "version": "3.9.13"
  },
  "orig_nbformat": 4
 },
 "nbformat": 4,
 "nbformat_minor": 2
}
