{
 "cells": [
  {
   "cell_type": "code",
   "execution_count": null,
   "metadata": {},
   "outputs": [],
   "source": [
    "import whisper\n",
    "import os\n",
    "import json\n",
    "\n",
    "\n",
    "print(f\"Whisper version: {whisper.__version__}\")\n",
    "\n"
   ]
  },
  {
   "cell_type": "code",
   "execution_count": null,
   "metadata": {},
   "outputs": [],
   "source": [
    "# Convert .m4a or .mp4 to mp3\n",
    "def convert_to_MP3(in_file, out_file):\n",
    "    fileToConvert = AudioFileClip(in_file)\n",
    "    fileToConvert.write_audiofile(out_file)\n",
    "    fileToConvert.close()\n",
    "\n",
    "IN_FILE_PATH = os.path.join(folder_path, \"sound.mp4\") # sound.m4a\n",
    "OUT_FILE_PATH = os.path.join(folder_path, \"sound.mp3\") # sound.mp3\n",
    "\n",
    "convert_to_MP3(IN_FILE_PATH, OUT_FILE_PATH)\n"
   ]
  },
  {
   "cell_type": "code",
   "execution_count": null,
   "metadata": {},
   "outputs": [],
   "source": [
    "# Transkribera ljudet\n",
    "\n",
    "audio_file_name = \"ljud.wma\"\n",
    "audio_file_path = os.path.join(folder_path, audio_file_name)\n",
    "\n",
    "language = \"sv\"\n",
    "beamSize = 5\n",
    "bestOf = 2\n",
    "\n",
    "# Ladda ner modellen\n",
    "model_name = r\"large-v2\"\n",
    "model = whisper.load_model(model_name)\n",
    "\n",
    "#result = model.transcribe(audio_file_path, language=language, beam_size=beamSize, best_of=bestOf) # Tar lång tid... \n",
    "result = model.transcribe(audio_file_path, language=\"sv\")\n",
    "#result = model.transcribe(audio_file_path, **transcribe_options) # Ny approach \n",
    "  \n",
    "print(result[\"text\"])"
   ]
  },
  {
   "cell_type": "code",
   "execution_count": null,
   "metadata": {},
   "outputs": [],
   "source": [
    "#file_name = f\"whisper_{whisper.__version__}_{model_name}_beamSize_{beamSize}_bestOf_{bestOf}\"\n",
    "file_name = f\"default_whisper_{whisper.__version__}_{model_name}\"\n",
    "\n",
    "\n",
    "# Spara resultat till .json (har en massa extra information)\n",
    "with open(os.path.join(folder_path, f\"{file_name}.json\"), \"w\", encoding=\"utf-8\") as f:\n",
    "    json.dump(result, f, ensure_ascii=False, indent=4)\n",
    "\n",
    "# Spara all text som .txt\n",
    "with open(os.path.join(folder_path, f\"{file_name}.txt\"), \"w\", encoding=\"utf-8\") as f:\n",
    "    f.write(result[\"text\"])\n",
    "\n",
    "# Spara all text med radbryten som .txt\n",
    "lines = []\n",
    "for line in result[\"segments\"]:\n",
    "    lines.append(line[\"text\"])\n",
    "with open(os.path.join(folder_path, f\"{file_name}_radbryte.txt\"), \"w\", encoding=\"utf-8\") as f:\n",
    "    for line in lines:\n",
    "        f.write(f\"{line}\\n\")"
   ]
  },
  {
   "cell_type": "code",
   "execution_count": null,
   "metadata": {},
   "outputs": [],
   "source": [
    "# .tsv-fil\n",
    "with open(os.path.join(folder_path, f\"{file_name}.tsv\"), \"w\", encoding=\"utf-8\") as f:\n",
    "\n",
    "    print(\"start\", \"end\", \"text\", sep=\"\\t\", file=f)\n",
    "    for segment in result[\"segments\"]:\n",
    "        print(round(1000 * segment['start']), file=f, end=\"\\t\")\n",
    "        print(round(1000 * segment['end']), file=f, end=\"\\t\")\n",
    "        print(segment['text'].strip().replace(\"\\t\", \" \"), file=f, flush=True)"
   ]
  },
  {
   "cell_type": "code",
   "execution_count": null,
   "metadata": {},
   "outputs": [],
   "source": [
    "# .srt-fil\n",
    "\n",
    "def format_timestamp(seconds: float, always_include_hours: bool = False, decimal_marker: str = '.'):\n",
    "    assert seconds >= 0, \"non-negative timestamp expected\"\n",
    "    milliseconds = round(seconds * 1000.0)\n",
    "\n",
    "    hours = milliseconds // 3_600_000\n",
    "    milliseconds -= hours * 3_600_000\n",
    "\n",
    "    minutes = milliseconds // 60_000\n",
    "    milliseconds -= minutes * 60_000\n",
    "\n",
    "    seconds = milliseconds // 1_000\n",
    "    milliseconds -= seconds * 1_000\n",
    "\n",
    "    hours_marker = f\"{hours:02d}:\" if always_include_hours or hours > 0 else \"\"\n",
    "    return f\"{hours_marker}{minutes:02d}:{seconds:02d}{decimal_marker}{milliseconds:03d}\"\n",
    "\n",
    "with open(os.path.join(folder_path, f\"{file_name}.srt\"), \"w\", encoding=\"utf-8\") as f:\n",
    "    for i, segment in enumerate(result[\"segments\"], start=1):\n",
    "        # write srt lines\n",
    "        print(\n",
    "            f\"{i}\\n\"\n",
    "            f\"{format_timestamp(segment['start'], always_include_hours=True, decimal_marker='.')} --> \"\n",
    "            f\"{format_timestamp(segment['end'], always_include_hours=True, decimal_marker='.')}\\n\"\n",
    "            f\"{segment['text'].strip().replace('-->', '->')}\\n\",\n",
    "            file=f,\n",
    "            flush=True,\n",
    "        )"
   ]
  },
  {
   "cell_type": "code",
   "execution_count": null,
   "metadata": {},
   "outputs": [],
   "source": [
    "# .vtt-fil\n",
    "with open(os.path.join(folder_path, f\"{file_name}.vtt\"), \"w\", encoding=\"utf-8\") as f:\n",
    "    for segment in result[\"segments\"]:\n",
    "        print(\n",
    "            f\"{format_timestamp(segment['start'])} --> {format_timestamp(segment['end'])}\\n\"\n",
    "            f\"{segment['text'].strip().replace('-->', '->')}\\n\",\n",
    "            file=f,\n",
    "            flush=True,\n",
    "        )"
   ]
  }
 ],
 "metadata": {
  "language_info": {
   "name": "python"
  },
  "orig_nbformat": 4
 },
 "nbformat": 4,
 "nbformat_minor": 2
}
