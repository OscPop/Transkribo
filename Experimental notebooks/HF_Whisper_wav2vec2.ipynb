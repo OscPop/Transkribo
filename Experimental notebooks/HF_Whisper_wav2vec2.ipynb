{
 "cells": [
  {
   "cell_type": "code",
   "execution_count": null,
   "metadata": {},
   "outputs": [],
   "source": [
    "# Huggingface pipeline with whisper large v2\n",
    "\n",
    "import torch\n",
    "import os\n",
    "from transformers import pipeline\n",
    "#from datasets import load_dataset\n",
    "\n",
    "device = \"cuda:0\" if torch.cuda.is_available() else \"cpu\"\n",
    "\n",
    "pipe = pipeline(\n",
    "  \"automatic-speech-recognition\",\n",
    "  model=\"openai/whisper-large-v2\",\n",
    "  chunk_length_s=30,\n",
    "  device=device,\n",
    ")\n",
    "\n",
    "audio = os.path.join(\"\", \"ljud.mp3\")\n",
    "\n",
    "# we can also return timestamps for the predictions\n",
    "prediction = pipe(audio, return_timestamps=True)[\"chunks\"]\n",
    "\n",
    "prediction"
   ]
  },
  {
   "cell_type": "code",
   "execution_count": null,
   "metadata": {},
   "outputs": [],
   "source": [
    "# Huggingface pipeline with wav2vec2 fom KB (Kungliga Biblioteket)\n",
    "\n",
    "import torch\n",
    "import os\n",
    "from transformers import pipeline\n",
    "\n",
    "device = \"cpu\"\n",
    "\n",
    "pipe = pipeline(\n",
    "  \"automatic-speech-recognition\",\n",
    "  model=\"KBLab/wav2vec2-large-voxrex-swedish\",\n",
    "  device=device,\n",
    ")\n",
    "\n",
    "folder_path = os.path.join(\"\", \"\")\n",
    "\n",
    "audio = os.path.join(folder_path, \"\")\n",
    "\n",
    "# we can also return timestamps for the predictions\n",
    "prediction2 = pipe(audio, chunk_length_s=40, stride_length_s=7, return_timestamps=\"word\")\n",
    "\n",
    "speech_offset = float(prediction2['chunks'][0]['timestamp'][0])\n",
    "print(f\"Första kontakt: {speech_offset}\")\n",
    "\n",
    "with open(os.path.join(folder_path, \"speech_offset.txt\"), \"w\", encoding=\"utf-8\") as f:\n",
    "    f.write(str(speech_offset))\n",
    "\n",
    "prediction2"
   ]
  }
 ],
 "metadata": {
  "kernelspec": {
   "display_name": "whisper_env",
   "language": "python",
   "name": "python3"
  },
  "language_info": {
   "codemirror_mode": {
    "name": "ipython",
    "version": 3
   },
   "file_extension": ".py",
   "mimetype": "text/x-python",
   "name": "python",
   "nbconvert_exporter": "python",
   "pygments_lexer": "ipython3",
   "version": "3.9.13"
  },
  "orig_nbformat": 4
 },
 "nbformat": 4,
 "nbformat_minor": 2
}
