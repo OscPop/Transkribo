{
 "cells": [
  {
   "cell_type": "code",
   "execution_count": 61,
   "metadata": {},
   "outputs": [],
   "source": [
    "import pandas as pd\n",
    "import os\n",
    "import numpy as np\n",
    "import json\n",
    "\n",
    "\n",
    "folder_path = os.path.join(\"\")\n",
    "\n",
    "tsv_file_name = \"\"\n",
    "tsv_file_path = os.path.join(folder_path, tsv_file_name)"
   ]
  },
  {
   "cell_type": "code",
   "execution_count": null,
   "metadata": {},
   "outputs": [],
   "source": [
    "df_whisper = pd.read_csv(tsv_file_path, sep=\"\\t\")\n",
    "df_whisper.head()"
   ]
  },
  {
   "cell_type": "code",
   "execution_count": 63,
   "metadata": {},
   "outputs": [],
   "source": [
    "outfile_name = \"transcription.txt\"\n",
    "\n",
    "with open(os.path.join(folder_path, outfile_name), \"w\", encoding=\"utf-8\") as f:\n",
    "    for line in df_whisper.text.to_list():\n",
    "        f.write(line+\"\\n\")\n"
   ]
  },
  {
   "cell_type": "code",
   "execution_count": 13,
   "metadata": {},
   "outputs": [],
   "source": [
    "timestamps, speakers = [], []\n",
    "text_lines = []\n",
    "\n",
    "with open(os.path.join(folder_path, \"transcription.txt\"), \"r\", encoding=\"utf-8\") as f:\n",
    "    for idx, line in enumerate(f):\n",
    "        if idx % 2 == 0:\n",
    "            info_line = line.strip().split(\" \")\n",
    "            timestamp, speaker = info_line[0], info_line[-1] \n",
    "            timestamps.append(timestamp)\n",
    "            speakers.append(\"Talare \"+str(speaker))\n",
    "        else:\n",
    "            text_lines.append(line.strip())\n",
    "\n"
   ]
  },
  {
   "cell_type": "code",
   "execution_count": 36,
   "metadata": {},
   "outputs": [],
   "source": [
    "def convert_to_milliseconds(timestamp):\n",
    "    hours, minutes, seconds = str(timestamp[1:]).split(\":\")\n",
    "    milliseconds = int(hours) * (60*60*1000) + int(minutes) * (60*1000) + int(seconds) * 1000\n",
    "\n",
    "    return int(milliseconds)"
   ]
  },
  {
   "cell_type": "code",
   "execution_count": null,
   "metadata": {},
   "outputs": [],
   "source": [
    "df_word = pd.DataFrame(list(zip(timestamps, text_lines, speakers)), columns=[\"timestamps\", \"text\", \"speaker\"])\n",
    "df_word[\"start\"] = df_word.timestamps.apply(convert_to_milliseconds)\n",
    "df_word[\"end\"] = df_word.start.shift(-1)\n",
    "df_word = df_word[[\"start\", \"end\", \"text\", \"speaker\"]]\n",
    "\n",
    "df_word.to_csv(os.path.join(folder_path, \"transkribering_word.tsv\"), sep=\"\\t\", encoding=\"utf-8\", index=False)\n",
    "\n",
    "df_word.head()"
   ]
  },
  {
   "cell_type": "code",
   "execution_count": null,
   "metadata": {},
   "outputs": [],
   "source": [
    "file_name = \"whisper_transkribering_large-v2.txt\"\n",
    "\n",
    "with open(os.path.join(folder_path, file_name), \"r\", encoding=\"utf-8\") as f:\n",
    "    text = f.read()\n",
    "\n",
    "text.split(\".\")"
   ]
  }
 ],
 "metadata": {
  "kernelspec": {
   "display_name": "whisper_env",
   "language": "python",
   "name": "python3"
  },
  "language_info": {
   "codemirror_mode": {
    "name": "ipython",
    "version": 3
   },
   "file_extension": ".py",
   "mimetype": "text/x-python",
   "name": "python",
   "nbconvert_exporter": "python",
   "pygments_lexer": "ipython3",
   "version": "3.9.13"
  },
  "orig_nbformat": 4
 },
 "nbformat": 4,
 "nbformat_minor": 2
}
