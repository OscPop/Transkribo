{
 "cells": [
  {
   "attachments": {},
   "cell_type": "markdown",
   "metadata": {},
   "source": [
    "# Wordcloud\n",
    "\n",
    "This notebook goes through the process of making a wordcloud out of the whisper transcriptions. This is done using a python library called `wordcloud`.\n",
    "<br>\n",
    "There are a lot words that are of no interest (stopwords) and are therefore removed."
   ]
  },
  {
   "cell_type": "code",
   "execution_count": null,
   "metadata": {},
   "outputs": [
    {
     "ename": "",
     "evalue": "",
     "output_type": "error",
     "traceback": [
      "\u001b[1;31mRunning cells with '.venv' requires the ipykernel package.\n",
      "\u001b[1;31mRun the following command to install 'ipykernel' into the Python environment. \n",
      "\u001b[1;31mCommand: '\"c:/Users/OscarLarsen/OneDrive - Riksrevisionen/VS Code Projekt/transkribo-official/.venv/Scripts/python.exe\" -m pip install ipykernel -U --force-reinstall'"
     ]
    }
   ],
   "source": [
    "import os\n",
    "from wordcloud import WordCloud\n",
    "import matplotlib.pyplot as plt\n",
    "import nltk\n",
    "from nltk.corpus import stopwords\n",
    "\n",
    "\n",
    "nltk.download(\"stopwords\")\n",
    "\n",
    "folder_path = os.path.join(\"\", \"\")\n",
    "file_name = r\"whisper_transkribering_large-v2.txt\"\n",
    "#file_name = \"text_no_timestamps_no_names.txt\" \n",
    "language = \"swedish\""
   ]
  },
  {
   "cell_type": "code",
   "execution_count": 2,
   "metadata": {},
   "outputs": [
    {
     "name": "stdout",
     "output_type": "stream",
     "text": [
      "Antal stopwords från nltk: 114\n",
      "Antal stopwords från fil: 592\n",
      "Nytt antal stopwords: 706\n"
     ]
    }
   ],
   "source": [
    "# Read the text file that is to be analyzed\n",
    "with open(os.path.join(folder_path, file_name), \"r\", encoding=\"utf-8\") as f:\n",
    "    text = f.read()\n",
    "\n",
    "# Get stopwords from NLTK\n",
    "stopwords_nltk = stopwords.words(language)\n",
    "print(f\"Num stopwords from nltk: {len(stopwords_nltk)}\")\n",
    "\n",
    "# Get stopwords from file\n",
    "with open(f\"stopwords_{language}.txt\", \"r\", encoding=\"utf-8\") as f:\n",
    "    stopwords_from_file = [line.rstrip() for line in f]\n",
    "print(f\"Num stopwords from file: {len(stopwords_from_file)}\")\n",
    "\n",
    "# Put together the stopwords\n",
    "stopword_list = stopwords_nltk + stopwords_from_file\n",
    "print(f\"New num stopwords: {len(stopword_list)}\")"
   ]
  },
  {
   "cell_type": "code",
   "execution_count": null,
   "metadata": {},
   "outputs": [],
   "source": [
    "# Make a wordcloud with the words in the transcript\n",
    "#  - there are a ton of options to play around with\n",
    "\n",
    "wordcloud = WordCloud(width=400, height=400,\n",
    "                      max_font_size=40, \n",
    "                      stopwords=stopword_list,\n",
    "                      collocations=False,\n",
    "                      background_color=\"white\",\n",
    "                      min_font_size=10).generate(text)\n",
    "\n",
    "# Plot the wordcloud\n",
    "fig, ax = plt.subplots(figsize=(8,8))\n",
    "ax.imshow(wordcloud)\n",
    "ax.axis(\"off\")\n",
    "plt.show()\n",
    "\n",
    "# Save the wordcloud\n",
    "fig.savefig(os.path.join(folder_path, \"wordcloud.png\"))"
   ]
  },
  {
   "cell_type": "code",
   "execution_count": 52,
   "metadata": {},
   "outputs": [],
   "source": [
    "# Here are some extra swedish words that can be added to the stopwords\n",
    "\n",
    "stopwords_extra = [\"enligt\", \"kap\", \"bör\", \"från\", \"vid\", \"artikel\", \"får\", \"finns\", \"andra\", \"inom\", \\\n",
    "            \"lagen\", \"även\", \"vara\", \"regeringen\", \"gäller\", \"detta\", \"stycket\", \"uppgifter\", \"under\",\\\n",
    "            \"mot\", \"när\", \"genom\", \"förslag\", \"också\", \"och\", \"men\", \"då\", \"eller\", \"sig\", \\\n",
    "            \"beslut\", \"utredningen\", \"skulle\", \"denna\", \"år\", \"kunna\", \"första\", \"olika\", \\\n",
    "            \"samt\", \"bestämmelser\", \"the\", \"dessa\", \"än\", \"hur\", \"mellan\", \"verksamhet\", \"dessa\", \\\n",
    "            \"prop\", \"mellan\", \"verksamhet\", \"vissa\", \"lag\", \"innebär\", \"fall\", \"stöd\", \"så\", \"sou\", \\\n",
    "            \"rätt\", \"se\", \"åtgärder\", \"ha\", \"där\", \"sätt\", \"dock\", \"in\", \"någon\", \"kommer\", \"vad\", \"avses\", \\\n",
    "            \"få\", \"information\", \"annan\", \"nya\", \"procent\", \"över\", \"vi\", \"krav\", \"avsnitt\", \"personer\", \\\n",
    "            \"annat\", \"efter\", \"sådan\", \"sådana\", \"var\", \"utan\", \"därför\", \"ut\", \"del\", \"sin\", \"bilaga\", \\\n",
    "            \"mer\", \"företag\", \"fråga\", \"barn\", \"anges\", \"myndigheten\", \"vilka\", \"ex\", \"förordning\", \\\n",
    "            \"behov\", \"särskilt\", \"myndigheter\", \"svenska\", \"bedömning\", \"alla\", \"kronor\", \"bl\", \\\n",
    "            \"samma\", \"of\", \"vilket\", \"förslaget\", \"regeringens\", \"lydelse\", \"omfattas\", \"ta\", \"endast\", \\\n",
    "            \"utredningens\", \"vidare\", \"flera\", \"behöver\", \"direktiv\", \"kommuner\", \"anser\", \"bestämmelserna\",\\\n",
    "            \"paragrafen\", \"arbete\", \"sverige\", \"eu\", \"personuppgifter\", \"brott\", \"myndighet\", \"tid\", \"ändring\",\\\n",
    "            \"föreskrifter\", \"behandling\", \"uppdrag\", \"hälso\", \"särskilda\", \"nationella\", \"något\", \"upp\", \"hos\", \\\n",
    "            \"skäl\", \"enlighet\", \"bestämmelsen\", \"grund\", \"följande\", \"avser\", \"framgår\", \"tillstånd\", \"dag\", \\\n",
    "            \"måste\", \"tidigare\", \"utbildning\", \"fram\", \"europeiska\", \"möjlighet\", \"sina\", \"mål\", \"man\", \\\n",
    "            \"eftersom\", \"tillämpas\", \"person\", \"verksamheten\", \"lämna\", \"ansvar\", \"anses\", \"avseende\", \\\n",
    "            \"enskilda\", \"vård\", \"ny\", \"sådant\", \"viss\", \"allmänna\", \"lämnas\", \"bland\", \"tillsyn\", \"and\", \\\n",
    "            \"förutsättningar\", \"tas\", \"vilken\", \"exempel\", \"göra\", \"kostnader\", \"möjligt\", \"förordningen\",\\\n",
    "            \"två\", \"tjänster\", \"många\", \"eg\", \"nr\", \"ekonomiska\", \"frågor\", \"hade\", \"gälla\", \"nuvarande\", \\\n",
    "            \"blir\", \"rådets\", \"varje\", \"större\", \"några\", \"dels\", \"ge\", \"särskild\", \"punkt\", \"krävs\", \"både\",\\\n",
    "            \"kommun\", \"ou\", \"följer\", \"regler\", \"sveriges\", \"svensk\", \"insatser\", \"betydelse\", \"motsvarande\", \\\n",
    "            \"hänsyn\", \"ytterligare\", \"sitt\", \"ges\", \"därmed\", \"ansökan\", \"behandlas\", \"arbetet\", \"frågan\",\\\n",
    "            \"syfte\", \"villkor\", \"exempelvis\", \"innehåller\", \"stor\", \"to\", \"samband\", \"bli\", \"varit\",\\\n",
    "            \"uppgift\", \"staten\", \"delar\", \"ger\", \"behövs\", \"föreslår\", \"per\", \"antal\", \"stället\", \"aktörer\", \\\n",
    "            \"kraft\", \"dess\", \"redan\", \"tredje\", \"göras\", \"form\", \"övriga\", \"kapitel\", \"används\", \"behöriga\", \\\n",
    "            \"respektive\", \"gör\", \"ske\", \"avtal\", \"mindre\", \"säkerställa\", \"utifrån\", \"antalet\", \"miljoner\", \\\n",
    "            \"statens\", \"mycket\", \"nationell\", \"tillgång\", \"samverkan\", \"användas\", \"sedan\", \"längre\", \\\n",
    "            \"utsträckning\", \"myndigheterna\", \"högre\", \"samtidigt\", \"utgör\", \"anledning\", \"alltså\", \"före\", \\\n",
    "            \"finnas\", \"här\", \"bedömningen\", \"dem\", \"komma\", \"statliga\", \"nivå\", \"rör\", \"deras\", \"sker\",\\\n",
    "            \"kontroll\", \"ramen\", \"områden\", \"förhållande\", \"möjligheter\", \"system\", \"minst\", \"stora\", \\\n",
    "            \"förslagen\", \"beslutet\", \"tre\", \"skr\", \"gällande\", \"han\", \"internationella\", \"föreslås\", \\\n",
    "            \"ingår\", \"bestämmelse\", \"grundläggande\", \"berörda\", \"allt\", \"bedömer\", \"bara\", \"går\", \"utanför\",\\\n",
    "            \"kan\", \"nu\"]"
   ]
  }
 ],
 "metadata": {
  "kernelspec": {
   "display_name": "OPL_env",
   "language": "python",
   "name": "python3"
  },
  "language_info": {
   "codemirror_mode": {
    "name": "ipython",
    "version": 3
   },
   "file_extension": ".py",
   "mimetype": "text/x-python",
   "name": "python",
   "nbconvert_exporter": "python",
   "pygments_lexer": "ipython3",
   "version": "3.9.13"
  },
  "orig_nbformat": 4,
  "vscode": {
   "interpreter": {
    "hash": "fb4b4aec8891540721bbacd75ce82eb1de75d920f485cc6112031151e27aab99"
   }
  }
 },
 "nbformat": 4,
 "nbformat_minor": 2
}
