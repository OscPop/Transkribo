{
 "cells": [
  {
   "attachments": {},
   "cell_type": "markdown",
   "metadata": {},
   "source": [
    "# Transcribing the audio files"
   ]
  },
  {
   "cell_type": "code",
   "execution_count": 4,
   "metadata": {},
   "outputs": [
    {
     "name": "stdout",
     "output_type": "stream",
     "text": [
      "Whisper version: 20230124\n"
     ]
    }
   ],
   "source": [
    "import whisper\n",
    "import os\n",
    "import json\n",
    "\n",
    "\n",
    "print(f\"Whisper version: {whisper.__version__}\")\n",
    "\n",
    "os.chdir(os.path.join(\"..\", \"..\"))\n",
    "folder_path = os.path.join(\"Projects\", \"Example 1\")\n",
    "if not os.path.exists(folder_path):\n",
    "    print(\"Folder does not exist\")"
   ]
  },
  {
   "cell_type": "code",
   "execution_count": null,
   "metadata": {},
   "outputs": [],
   "source": [
    "# Audio file\n",
    "audio_file_name = \"audio.mp3\"\n",
    "audio_file_path = os.path.join(folder_path, audio_file_name)\n",
    "\n",
    "# Transcribe options (there are more options available, see the documentation)\n",
    "language = \"sv\"\n",
    "beamSize = 5\n",
    "bestOf = 2\n",
    "\n",
    "# Download the model\n",
    "model_name = r\"large-v2\"\n",
    "model = whisper.load_model(model_name)\n",
    "\n",
    "\n",
    "# Different ways to transcribe the audio file\n",
    "result = model.transcribe(audio_file_path, language=\"sv\")\n",
    "#result = model.transcribe(audio_file_path, language=language, beam_size=beamSize, best_of=bestOf)\n",
    "#result = model.transcribe(audio_file_path, **transcribe_options) \n",
    "  \n",
    "print(result[\"text\"])"
   ]
  },
  {
   "attachments": {},
   "cell_type": "markdown",
   "metadata": {},
   "source": [
    "## Saving the files\n",
    "The transcribed audio can be saved in a variety of formats. "
   ]
  },
  {
   "cell_type": "code",
   "execution_count": 19,
   "metadata": {},
   "outputs": [],
   "source": [
    "#file_name = f\"whisper_{whisper.__version__}_{model_name}_beamSize_{beamSize}_bestOf_{bestOf}\"\n",
    "file_name = f\"default_whisper_{whisper.__version__}_{model_name}\"\n",
    "\n",
    "\n",
    "# Save to .json (\"result\" contains a bunch of information)\n",
    "with open(os.path.join(folder_path, f\"{file_name}.json\"), \"w\", encoding=\"utf-8\") as f:\n",
    "    json.dump(result, f, ensure_ascii=False, indent=4)\n",
    "\n",
    "# Save to .txt\n",
    "with open(os.path.join(folder_path, f\"{file_name}.txt\"), \"w\", encoding=\"utf-8\") as f:\n",
    "    f.write(result[\"text\"])\n",
    "\n",
    "# Save with linebreaks as .txt\n",
    "lines = []\n",
    "for line in result[\"segments\"]:\n",
    "    lines.append(line[\"text\"])\n",
    "with open(os.path.join(folder_path, f\"{file_name}_linebreak.txt\"), \"w\", encoding=\"utf-8\") as f:\n",
    "    for line in lines:\n",
    "        f.write(f\"{line}\\n\")"
   ]
  },
  {
   "cell_type": "code",
   "execution_count": 20,
   "metadata": {},
   "outputs": [],
   "source": [
    "# Save as .TSV file\n",
    "with open(os.path.join(folder_path, f\"{file_name}.tsv\"), \"w\", encoding=\"utf-8\") as f:\n",
    "\n",
    "    print(\"start\", \"end\", \"text\", sep=\"\\t\", file=f)\n",
    "    for segment in result[\"segments\"]:\n",
    "        print(round(1000 * segment['start']), file=f, end=\"\\t\")\n",
    "        print(round(1000 * segment['end']), file=f, end=\"\\t\")\n",
    "        print(segment['text'].strip().replace(\"\\t\", \" \"), file=f, flush=True)"
   ]
  },
  {
   "cell_type": "code",
   "execution_count": 21,
   "metadata": {},
   "outputs": [],
   "source": [
    "# Save as .SRT file\n",
    "\n",
    "def format_timestamp(seconds: float, always_include_hours: bool = False, decimal_marker: str = '.'):\n",
    "    assert seconds >= 0, \"non-negative timestamp expected\"\n",
    "    milliseconds = round(seconds * 1000.0)\n",
    "\n",
    "    hours = milliseconds // 3_600_000\n",
    "    milliseconds -= hours * 3_600_000\n",
    "\n",
    "    minutes = milliseconds // 60_000\n",
    "    milliseconds -= minutes * 60_000\n",
    "\n",
    "    seconds = milliseconds // 1_000\n",
    "    milliseconds -= seconds * 1_000\n",
    "\n",
    "    hours_marker = f\"{hours:02d}:\" if always_include_hours or hours > 0 else \"\"\n",
    "    return f\"{hours_marker}{minutes:02d}:{seconds:02d}{decimal_marker}{milliseconds:03d}\"\n",
    "\n",
    "with open(os.path.join(folder_path, f\"{file_name}.srt\"), \"w\", encoding=\"utf-8\") as f:\n",
    "    for i, segment in enumerate(result[\"segments\"], start=1):\n",
    "        # write srt lines\n",
    "        print(\n",
    "            f\"{i}\\n\"\n",
    "            f\"{format_timestamp(segment['start'], always_include_hours=True, decimal_marker='.')} --> \"\n",
    "            f\"{format_timestamp(segment['end'], always_include_hours=True, decimal_marker='.')}\\n\"\n",
    "            f\"{segment['text'].strip().replace('-->', '->')}\\n\",\n",
    "            file=f,\n",
    "            flush=True,\n",
    "        )"
   ]
  },
  {
   "cell_type": "code",
   "execution_count": 22,
   "metadata": {},
   "outputs": [],
   "source": [
    "# Save as .VTT file\n",
    "with open(os.path.join(folder_path, f\"{file_name}.vtt\"), \"w\", encoding=\"utf-8\") as f:\n",
    "    for segment in result[\"segments\"]:\n",
    "        print(\n",
    "            f\"{format_timestamp(segment['start'])} --> {format_timestamp(segment['end'])}\\n\"\n",
    "            f\"{segment['text'].strip().replace('-->', '->')}\\n\",\n",
    "            file=f,\n",
    "            flush=True,\n",
    "        )"
   ]
  },
  {
   "cell_type": "code",
   "execution_count": null,
   "metadata": {},
   "outputs": [],
   "source": []
  }
 ],
 "metadata": {
  "kernelspec": {
   "display_name": ".venv",
   "language": "python",
   "name": "python3"
  },
  "language_info": {
   "codemirror_mode": {
    "name": "ipython",
    "version": 3
   },
   "file_extension": ".py",
   "mimetype": "text/x-python",
   "name": "python",
   "nbconvert_exporter": "python",
   "pygments_lexer": "ipython3",
   "version": "3.9.13"
  },
  "orig_nbformat": 4
 },
 "nbformat": 4,
 "nbformat_minor": 2
}
