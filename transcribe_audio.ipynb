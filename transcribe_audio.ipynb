{
 "cells": [
  {
   "cell_type": "code",
   "execution_count": 8,
   "metadata": {},
   "outputs": [
    {
     "name": "stdout",
     "output_type": "stream",
     "text": [
      "Whisper version: 20230124\n"
     ]
    }
   ],
   "source": [
    "import whisper\n",
    "import os\n",
    "import json\n",
    "\n",
    "\n",
    "print(f\"Whisper version: {whisper.__version__}\")\n",
    "\n",
    "folder_path = os.path.join(\"Data\", \"Example 2\")\n",
    "if not os.path.exists(folder_path):\n",
    "    print(\"Folder does not exist\")"
   ]
  },
  {
   "attachments": {},
   "cell_type": "markdown",
   "metadata": {},
   "source": [
    "# Transcribe the audio"
   ]
  },
  {
   "cell_type": "code",
   "execution_count": 9,
   "metadata": {},
   "outputs": [
    {
     "name": "stdout",
     "output_type": "stream",
     "text": [
      " Det blev nog en lyckad tillställning. Igår hade några av de gamla gossarna och kamraterna här och......tog oss en liten klarelse. Jag vet inte vad som hände. Det är inte så ofta jag drabbas av den här situationen- och vaknar upp till denna typ av bord och letar runt bland slattarna. Men det var ju ofta under studentåren. Då fann jag ut denna fantastiska rätt. Man tar en ost. Ett halv kilo brukar räcka. Till exempel en mellanlagrad präst. Man tar bort plasten. Det glömmer man ibland. Det är inget gott alls. Man skär bort kanterna. Sen lägger man osten i en glaskål som tål värme- och ställer in den i mikro. Högsta effekt, fem-sex minuter, eller tre-fyra, man får se, tills den har smält. Halvvägs in i smältningen får man röra lite grann i osten- och den blir jämnt smält. Den här behöver nog en minut till. Allt beror på hur effektiv mikrovågsugn man har. Jag får nog vattna chilien innan gorilla kommer hem. Till slut har man en fin smält ostmassa. Man kan jämna till den lite grann. Det här är egentligen hela rätten. Smält ost, perfekt när man är bakfull. Mm! Det är feta, milda som lägger sig i osten. Feta, milda som lägger sig som en balsam in i kroppen. Det är det som gör den så lycklig. Har man turen att dessutom ha lite små slattar, man kanske har lite konjak över. Man kanske har lite vitt vin. Då kan man få rena ostfondyn-feelingen genom att man nyttjar slattarna- och rör med stora fina skedtag ner det hela. Nu är det ännu godare. Mm! Jag känner mig redan som en bättre människa. Mm! Det här är exakt en calzone utan skinka och minus bröd. Det är den mjuka, trevliga smälteosten som du är van med i en pizza. Du slipper brödet och tillbehören och den är betydligt enklare. Du behöver inte gå ut och beställa, du smälter den i din egen mikro. Det här rekommenderar jag ungdomen att ha till sig som ett medel- för gladare dagar när de har rullat väldigt mycket hatt. Vill ni veta mer smarta trick för baksmäll och andra trevligheter- så prenumerera på min kanal genom att trycka på knappen Prenumerera.\n"
     ]
    }
   ],
   "source": [
    "# Transkribera ljudet\n",
    "\n",
    "audio_file_name = \"eddy_ost.mp3\"\n",
    "audio_file_path = os.path.join(folder_path, audio_file_name)\n",
    "\n",
    "language = \"sv\"\n",
    "beamSize = 5\n",
    "bestOf = 2\n",
    "\n",
    "# Ladda ner modellen\n",
    "model_name = r\"large-v2\"\n",
    "model = whisper.load_model(model_name)\n",
    "\n",
    "#result = model.transcribe(audio_file_path, language=language, beam_size=beamSize, best_of=bestOf) # Tar lång tid... \n",
    "result = model.transcribe(audio_file_path, language=\"sv\")\n",
    "#result = model.transcribe(audio_file_path, **transcribe_options) # Ny approach \n",
    "  \n",
    "print(result[\"text\"])"
   ]
  },
  {
   "attachments": {},
   "cell_type": "markdown",
   "metadata": {},
   "source": [
    "## Saving the files\n",
    "The transcribed audio can be saved in a variety of formats. "
   ]
  },
  {
   "cell_type": "code",
   "execution_count": 10,
   "metadata": {},
   "outputs": [],
   "source": [
    "#file_name = f\"whisper_{whisper.__version__}_{model_name}_beamSize_{beamSize}_bestOf_{bestOf}\"\n",
    "file_name = f\"default_whisper_{whisper.__version__}_{model_name}\"\n",
    "\n",
    "\n",
    "# Spara resultat till .json (har en massa extra information)\n",
    "with open(os.path.join(folder_path, f\"{file_name}.json\"), \"w\", encoding=\"utf-8\") as f:\n",
    "    json.dump(result, f, ensure_ascii=False, indent=4)\n",
    "\n",
    "# Spara all text som .txt\n",
    "with open(os.path.join(folder_path, f\"{file_name}.txt\"), \"w\", encoding=\"utf-8\") as f:\n",
    "    f.write(result[\"text\"])\n",
    "\n",
    "# Spara all text med radbryten som .txt\n",
    "lines = []\n",
    "for line in result[\"segments\"]:\n",
    "    lines.append(line[\"text\"])\n",
    "with open(os.path.join(folder_path, f\"{file_name}_radbryte.txt\"), \"w\", encoding=\"utf-8\") as f:\n",
    "    for line in lines:\n",
    "        f.write(f\"{line}\\n\")"
   ]
  },
  {
   "cell_type": "code",
   "execution_count": 11,
   "metadata": {},
   "outputs": [],
   "source": [
    "# TSV file\n",
    "with open(os.path.join(folder_path, f\"{file_name}.tsv\"), \"w\", encoding=\"utf-8\") as f:\n",
    "\n",
    "    print(\"start\", \"end\", \"text\", sep=\"\\t\", file=f)\n",
    "    for segment in result[\"segments\"]:\n",
    "        print(round(1000 * segment['start']), file=f, end=\"\\t\")\n",
    "        print(round(1000 * segment['end']), file=f, end=\"\\t\")\n",
    "        print(segment['text'].strip().replace(\"\\t\", \" \"), file=f, flush=True)"
   ]
  },
  {
   "cell_type": "code",
   "execution_count": 12,
   "metadata": {},
   "outputs": [],
   "source": [
    "# SRT file\n",
    "\n",
    "def format_timestamp(seconds: float, always_include_hours: bool = False, decimal_marker: str = '.'):\n",
    "    assert seconds >= 0, \"non-negative timestamp expected\"\n",
    "    milliseconds = round(seconds * 1000.0)\n",
    "\n",
    "    hours = milliseconds // 3_600_000\n",
    "    milliseconds -= hours * 3_600_000\n",
    "\n",
    "    minutes = milliseconds // 60_000\n",
    "    milliseconds -= minutes * 60_000\n",
    "\n",
    "    seconds = milliseconds // 1_000\n",
    "    milliseconds -= seconds * 1_000\n",
    "\n",
    "    hours_marker = f\"{hours:02d}:\" if always_include_hours or hours > 0 else \"\"\n",
    "    return f\"{hours_marker}{minutes:02d}:{seconds:02d}{decimal_marker}{milliseconds:03d}\"\n",
    "\n",
    "with open(os.path.join(folder_path, f\"{file_name}.srt\"), \"w\", encoding=\"utf-8\") as f:\n",
    "    for i, segment in enumerate(result[\"segments\"], start=1):\n",
    "        # write srt lines\n",
    "        print(\n",
    "            f\"{i}\\n\"\n",
    "            f\"{format_timestamp(segment['start'], always_include_hours=True, decimal_marker='.')} --> \"\n",
    "            f\"{format_timestamp(segment['end'], always_include_hours=True, decimal_marker='.')}\\n\"\n",
    "            f\"{segment['text'].strip().replace('-->', '->')}\\n\",\n",
    "            file=f,\n",
    "            flush=True,\n",
    "        )"
   ]
  },
  {
   "cell_type": "code",
   "execution_count": 13,
   "metadata": {},
   "outputs": [],
   "source": [
    "# VTT file\n",
    "with open(os.path.join(folder_path, f\"{file_name}.vtt\"), \"w\", encoding=\"utf-8\") as f:\n",
    "    for segment in result[\"segments\"]:\n",
    "        print(\n",
    "            f\"{format_timestamp(segment['start'])} --> {format_timestamp(segment['end'])}\\n\"\n",
    "            f\"{segment['text'].strip().replace('-->', '->')}\\n\",\n",
    "            file=f,\n",
    "            flush=True,\n",
    "        )"
   ]
  },
  {
   "cell_type": "code",
   "execution_count": null,
   "metadata": {},
   "outputs": [],
   "source": []
  }
 ],
 "metadata": {
  "kernelspec": {
   "display_name": ".venv",
   "language": "python",
   "name": "python3"
  },
  "language_info": {
   "codemirror_mode": {
    "name": "ipython",
    "version": 3
   },
   "file_extension": ".py",
   "mimetype": "text/x-python",
   "name": "python",
   "nbconvert_exporter": "python",
   "pygments_lexer": "ipython3",
   "version": "3.9.13"
  },
  "orig_nbformat": 4
 },
 "nbformat": 4,
 "nbformat_minor": 2
}
