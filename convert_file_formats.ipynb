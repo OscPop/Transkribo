{
 "cells": [
  {
   "cell_type": "code",
   "execution_count": null,
   "metadata": {},
   "outputs": [],
   "source": []
  },
  {
   "cell_type": "code",
   "execution_count": null,
   "metadata": {},
   "outputs": [],
   "source": [
    "# Convert .m4a or .mp4 to mp3\n",
    "def convert_to_MP3(in_file, out_file):\n",
    "    fileToConvert = AudioFileClip(in_file)\n",
    "    fileToConvert.write_audiofile(out_file)\n",
    "    fileToConvert.close()\n",
    "\n",
    "IN_FILE_PATH = os.path.join(folder_path, \"sound.mp4\") # sound.m4a\n",
    "OUT_FILE_PATH = os.path.join(folder_path, \"sound.mp3\") # sound.mp3\n",
    "\n",
    "convert_to_MP3(IN_FILE_PATH, OUT_FILE_PATH)\n"
   ]
  }
 ],
 "metadata": {
  "language_info": {
   "name": "python"
  },
  "orig_nbformat": 4
 },
 "nbformat": 4,
 "nbformat_minor": 2
}
