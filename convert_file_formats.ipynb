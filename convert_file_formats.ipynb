{
 "cells": [
  {
   "attachments": {},
   "cell_type": "markdown",
   "metadata": {},
   "source": [
    "# Converting between different formats\n",
    "This notebook covers some ways of converting files to various formats\n",
    "\n",
    "The whisper model can handle audio of formats `flac`, `mp3` and `wav`"
   ]
  },
  {
   "cell_type": "code",
   "execution_count": 2,
   "metadata": {},
   "outputs": [],
   "source": [
    "import os\n",
    "from moviepy.editor import AudioFileClip\n",
    "\n",
    "\n",
    "# Change the cwd (if you have the same folder structure as me)\n",
    "os.chdir(os.path.join(\"..\", \"..\"))"
   ]
  },
  {
   "cell_type": "code",
   "execution_count": null,
   "metadata": {},
   "outputs": [],
   "source": [
    "folder_path = os.path.join(\"Projects\", \"Example 1\")"
   ]
  },
  {
   "attachments": {},
   "cell_type": "markdown",
   "metadata": {},
   "source": [
    "Convert from ``mp4`` or ``m4a`` file to ``mp3``"
   ]
  },
  {
   "cell_type": "code",
   "execution_count": null,
   "metadata": {},
   "outputs": [],
   "source": [
    "# Convert .m4a or .mp4 to mp3\n",
    "def convert_to_MP3(in_file, out_file):\n",
    "    fileToConvert = AudioFileClip(in_file)\n",
    "    fileToConvert.write_audiofile(out_file)\n",
    "    fileToConvert.close()\n",
    "\n",
    "IN_FILE_PATH = os.path.join(folder_path, \"video.mp4\") # sound.m4a\n",
    "OUT_FILE_PATH = os.path.join(folder_path, \"audio.mp3\") # sound.mp3\n",
    "\n",
    "convert_to_MP3(IN_FILE_PATH, OUT_FILE_PATH)\n"
   ]
  },
  {
   "attachments": {},
   "cell_type": "markdown",
   "metadata": {},
   "source": [
    "Convert from `WMA` to `mp3`"
   ]
  },
  {
   "cell_type": "code",
   "execution_count": null,
   "metadata": {},
   "outputs": [],
   "source": [
    "from pydub import AudioSegment\n",
    "\n",
    "WMA_audio = AudioSegment.from_file(os.path.join(folder_path, \"audio.WMA\"), \"WMA\")\n",
    "WMA_audio.export(\"audio.mp3\", format=\"mp3\")"
   ]
  }
 ],
 "metadata": {
  "kernelspec": {
   "display_name": ".venv",
   "language": "python",
   "name": "python3"
  },
  "language_info": {
   "codemirror_mode": {
    "name": "ipython",
    "version": 3
   },
   "file_extension": ".py",
   "mimetype": "text/x-python",
   "name": "python",
   "nbconvert_exporter": "python",
   "pygments_lexer": "ipython3",
   "version": "3.9.13"
  },
  "orig_nbformat": 4
 },
 "nbformat": 4,
 "nbformat_minor": 2
}
