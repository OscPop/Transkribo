{
 "cells": [
  {
   "attachments": {},
   "cell_type": "markdown",
   "metadata": {},
   "source": [
    "# Read from docx\n",
    "The teams transcriptions are most often saved as docx files, which is an inconvenient format to work with. The docx files are converted into raw txt files for easier use with python.\n",
    "\n",
    "## Requirements\n",
    "For this code to work well the docx needs to contain nothing but plain text. "
   ]
  },
  {
   "cell_type": "code",
   "execution_count": null,
   "metadata": {},
   "outputs": [],
   "source": [
    "from docx import Document\n",
    "import os\n",
    "\n",
    "\n",
    "folder_path = os.path.join(\"Person\", \"Project\")\n",
    "file_path = os.path.join(folder_path, \".docx\")"
   ]
  },
  {
   "cell_type": "code",
   "execution_count": null,
   "metadata": {},
   "outputs": [],
   "source": [
    "doc = Document(file_path)\n",
    "lines = []\n",
    "for docpara in doc.paragraphs:\n",
    "    for line in docpara.text.split(\"\\n\"):\n",
    "        lines.append(line)\n",
    "\n",
    "lines[-6:]"
   ]
  },
  {
   "cell_type": "code",
   "execution_count": null,
   "metadata": {},
   "outputs": [],
   "source": [
    "with open(os.path.join(folder_path, \"text_raw.txt\"), \"w\", encoding=\"utf-8\") as f:\n",
    "    for line in lines:\n",
    "        f.write(line+\"\\n\")"
   ]
  }
 ],
 "metadata": {
  "language_info": {
   "name": "python"
  },
  "orig_nbformat": 4
 },
 "nbformat": 4,
 "nbformat_minor": 2
}
