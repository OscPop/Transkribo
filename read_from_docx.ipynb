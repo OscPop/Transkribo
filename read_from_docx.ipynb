{
 "cells": [
  {
   "cell_type": "code",
   "execution_count": null,
   "metadata": {},
   "outputs": [],
   "source": [
    "from docx import Document\n",
    "import os\n",
    "\n",
    "\n",
    "folder_path = os.path.join(\"Person\", \"Project\")\n",
    "file_path = os.path.join(folder_path, \".docx\")"
   ]
  },
  {
   "cell_type": "code",
   "execution_count": null,
   "metadata": {},
   "outputs": [],
   "source": [
    "doc = Document(file_path)\n",
    "lines = []\n",
    "for docpara in doc.paragraphs:\n",
    "    for line in docpara.text.split(\"\\n\"):\n",
    "        lines.append(line)\n",
    "\n",
    "lines[-6:]"
   ]
  },
  {
   "cell_type": "code",
   "execution_count": null,
   "metadata": {},
   "outputs": [],
   "source": [
    "with open(os.path.join(folder_path, \"text_raw.txt\"), \"w\", encoding=\"utf-8\") as f:\n",
    "    for line in lines:\n",
    "        f.write(line+\"\\n\")"
   ]
  }
 ],
 "metadata": {
  "language_info": {
   "name": "python"
  },
  "orig_nbformat": 4
 },
 "nbformat": 4,
 "nbformat_minor": 2
}
