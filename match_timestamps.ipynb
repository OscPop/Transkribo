{
 "cells": [
  {
   "attachments": {},
   "cell_type": "markdown",
   "metadata": {},
   "source": [
    "# Matching timestamps\n",
    "The teams transcriptions come with accurate timestamps for individual speakers since they are using separate microphones. Unfortunately, whisper does not have automatic knowledge of who's saying what. To make up for this, the transcribed speech from whisper is matched with the teams transcription timestamp.\n",
    "<br><br>\n",
    "This is achieved by taking a sentence from the whisper transcription and looking at its timestamp (start/end times). A specific sentence is then assigned the speaker tag of the time section with the most overlapping time from the teams transcription. "
   ]
  },
  {
   "cell_type": "code",
   "execution_count": 1,
   "metadata": {},
   "outputs": [],
   "source": [
    "import os\n",
    "import json\n",
    "import re\n",
    "import pandas as pd\n",
    "import numpy as np\n",
    "import datetime\n",
    "\n",
    "folder_path = os.path.join(\"Projects\", \"Example 1\")\n",
    "if not os.path.exists(folder_path):\n",
    "    print(f\"Folder does not exist\")"
   ]
  },
  {
   "attachments": {},
   "cell_type": "markdown",
   "metadata": {},
   "source": [
    "Read in the data from .tsv files as pandas dataframes"
   ]
  },
  {
   "cell_type": "code",
   "execution_count": 26,
   "metadata": {},
   "outputs": [
    {
     "name": "stdout",
     "output_type": "stream",
     "text": [
      "Shape of df: (8, 4)\n"
     ]
    },
    {
     "data": {
      "text/html": [
       "<div>\n",
       "<style scoped>\n",
       "    .dataframe tbody tr th:only-of-type {\n",
       "        vertical-align: middle;\n",
       "    }\n",
       "\n",
       "    .dataframe tbody tr th {\n",
       "        vertical-align: top;\n",
       "    }\n",
       "\n",
       "    .dataframe thead th {\n",
       "        text-align: right;\n",
       "    }\n",
       "</style>\n",
       "<table border=\"1\" class=\"dataframe\">\n",
       "  <thead>\n",
       "    <tr style=\"text-align: right;\">\n",
       "      <th></th>\n",
       "      <th>start</th>\n",
       "      <th>end</th>\n",
       "      <th>speaker</th>\n",
       "      <th>text</th>\n",
       "    </tr>\n",
       "  </thead>\n",
       "  <tbody>\n",
       "    <tr>\n",
       "      <th>0</th>\n",
       "      <td>0</td>\n",
       "      <td>45000</td>\n",
       "      <td>Annie Lööf</td>\n",
       "      <td>Occaecat ut incididunt sint magna proident qui...</td>\n",
       "    </tr>\n",
       "    <tr>\n",
       "      <th>1</th>\n",
       "      <td>45000</td>\n",
       "      <td>52000</td>\n",
       "      <td>Expressen</td>\n",
       "      <td>Qui irure laborum cupidatat dolore mollit mini...</td>\n",
       "    </tr>\n",
       "    <tr>\n",
       "      <th>2</th>\n",
       "      <td>52000</td>\n",
       "      <td>104000</td>\n",
       "      <td>Nooshi Dadgostar</td>\n",
       "      <td>Et commodo non veniam occaecat elit aute. Comm...</td>\n",
       "    </tr>\n",
       "    <tr>\n",
       "      <th>3</th>\n",
       "      <td>104000</td>\n",
       "      <td>131000</td>\n",
       "      <td>Annie Lööf</td>\n",
       "      <td>Non aliqua pariatur qui anim nisi. Non minim a...</td>\n",
       "    </tr>\n",
       "    <tr>\n",
       "      <th>4</th>\n",
       "      <td>131000</td>\n",
       "      <td>139000</td>\n",
       "      <td>Expressen</td>\n",
       "      <td>Sunt nisi cillum proident ex aliquip tempor, i...</td>\n",
       "    </tr>\n",
       "  </tbody>\n",
       "</table>\n",
       "</div>"
      ],
      "text/plain": [
       "    start     end           speaker   \n",
       "0       0   45000        Annie Lööf  \\\n",
       "1   45000   52000         Expressen   \n",
       "2   52000  104000  Nooshi Dadgostar   \n",
       "3  104000  131000        Annie Lööf   \n",
       "4  131000  139000         Expressen   \n",
       "\n",
       "                                                text  \n",
       "0  Occaecat ut incididunt sint magna proident qui...  \n",
       "1  Qui irure laborum cupidatat dolore mollit mini...  \n",
       "2  Et commodo non veniam occaecat elit aute. Comm...  \n",
       "3  Non aliqua pariatur qui anim nisi. Non minim a...  \n",
       "4  Sunt nisi cillum proident ex aliquip tempor, i...  "
      ]
     },
     "execution_count": 26,
     "metadata": {},
     "output_type": "execute_result"
    }
   ],
   "source": [
    "# Teams transcription in tsv-format\n",
    "df_teams = pd.read_csv(os.path.join(folder_path, \"synthetic_teams.tsv\"), sep=\"\\t\")\n",
    "\n",
    "print(f\"Shape of df: {df_teams.shape}\")\n",
    "df_teams.head()"
   ]
  },
  {
   "cell_type": "code",
   "execution_count": 27,
   "metadata": {},
   "outputs": [
    {
     "name": "stdout",
     "output_type": "stream",
     "text": [
      "Shape of df: (60, 3)\n"
     ]
    },
    {
     "data": {
      "text/html": [
       "<div>\n",
       "<style scoped>\n",
       "    .dataframe tbody tr th:only-of-type {\n",
       "        vertical-align: middle;\n",
       "    }\n",
       "\n",
       "    .dataframe tbody tr th {\n",
       "        vertical-align: top;\n",
       "    }\n",
       "\n",
       "    .dataframe thead th {\n",
       "        text-align: right;\n",
       "    }\n",
       "</style>\n",
       "<table border=\"1\" class=\"dataframe\">\n",
       "  <thead>\n",
       "    <tr style=\"text-align: right;\">\n",
       "      <th></th>\n",
       "      <th>start</th>\n",
       "      <th>end</th>\n",
       "      <th>text</th>\n",
       "    </tr>\n",
       "  </thead>\n",
       "  <tbody>\n",
       "    <tr>\n",
       "      <th>0</th>\n",
       "      <td>0</td>\n",
       "      <td>4000</td>\n",
       "      <td>Det är 16 000 äldre som har...</td>\n",
       "    </tr>\n",
       "    <tr>\n",
       "      <th>1</th>\n",
       "      <td>4000</td>\n",
       "      <td>7000</td>\n",
       "      <td>...bo på särskilda äldreboenden.</td>\n",
       "    </tr>\n",
       "    <tr>\n",
       "      <th>2</th>\n",
       "      <td>7000</td>\n",
       "      <td>11000</td>\n",
       "      <td>Och varannat besök på en vårdcentral görs hos ...</td>\n",
       "    </tr>\n",
       "    <tr>\n",
       "      <th>3</th>\n",
       "      <td>11000</td>\n",
       "      <td>15000</td>\n",
       "      <td>Jag tycker det är för mycket storstadsfokus i ...</td>\n",
       "    </tr>\n",
       "    <tr>\n",
       "      <th>4</th>\n",
       "      <td>15000</td>\n",
       "      <td>20000</td>\n",
       "      <td>För tar vi oss ut på landsbygden så är det ju ...</td>\n",
       "    </tr>\n",
       "  </tbody>\n",
       "</table>\n",
       "</div>"
      ],
      "text/plain": [
       "   start    end                                               text\n",
       "0      0   4000                     Det är 16 000 äldre som har...\n",
       "1   4000   7000                   ...bo på särskilda äldreboenden.\n",
       "2   7000  11000  Och varannat besök på en vårdcentral görs hos ...\n",
       "3  11000  15000  Jag tycker det är för mycket storstadsfokus i ...\n",
       "4  15000  20000  För tar vi oss ut på landsbygden så är det ju ..."
      ]
     },
     "execution_count": 27,
     "metadata": {},
     "output_type": "execute_result"
    }
   ],
   "source": [
    "# Whisper transcription in tsv-format\n",
    "df_whisper = pd.read_csv(os.path.join(folder_path, \"default_whisper_20230124_large-v2.tsv\"), sep=\"\\t\")\n",
    "\n",
    "print(f\"Shape of df: {df_whisper.shape}\")\n",
    "df_whisper.head()"
   ]
  },
  {
   "cell_type": "code",
   "execution_count": 28,
   "metadata": {},
   "outputs": [],
   "source": [
    "# Function to find the closest timestamp in df2 to a given timestamp in df1\n",
    "def find_overlap(start1, end1, start2, end2):\n",
    "    overlap = min(end1, end2) - max(start1, start2)\n",
    "\n",
    "    if overlap < 0:\n",
    "        return 0\n",
    "    else:\n",
    "        return overlap"
   ]
  },
  {
   "cell_type": "code",
   "execution_count": 29,
   "metadata": {},
   "outputs": [
    {
     "name": "stdout",
     "output_type": "stream",
     "text": [
      "200\n"
     ]
    },
    {
     "data": {
      "text/html": [
       "<div>\n",
       "<style scoped>\n",
       "    .dataframe tbody tr th:only-of-type {\n",
       "        vertical-align: middle;\n",
       "    }\n",
       "\n",
       "    .dataframe tbody tr th {\n",
       "        vertical-align: top;\n",
       "    }\n",
       "\n",
       "    .dataframe thead th {\n",
       "        text-align: right;\n",
       "    }\n",
       "</style>\n",
       "<table border=\"1\" class=\"dataframe\">\n",
       "  <thead>\n",
       "    <tr style=\"text-align: right;\">\n",
       "      <th></th>\n",
       "      <th>start</th>\n",
       "      <th>end</th>\n",
       "      <th>speaker</th>\n",
       "      <th>text</th>\n",
       "    </tr>\n",
       "  </thead>\n",
       "  <tbody>\n",
       "    <tr>\n",
       "      <th>0</th>\n",
       "      <td>0</td>\n",
       "      <td>4000</td>\n",
       "      <td>Annie Lööf</td>\n",
       "      <td>Det är 16 000 äldre som har...</td>\n",
       "    </tr>\n",
       "    <tr>\n",
       "      <th>1</th>\n",
       "      <td>4000</td>\n",
       "      <td>7000</td>\n",
       "      <td>Annie Lööf</td>\n",
       "      <td>...bo på särskilda äldreboenden.</td>\n",
       "    </tr>\n",
       "    <tr>\n",
       "      <th>2</th>\n",
       "      <td>7000</td>\n",
       "      <td>11000</td>\n",
       "      <td>Annie Lööf</td>\n",
       "      <td>Och varannat besök på en vårdcentral görs hos ...</td>\n",
       "    </tr>\n",
       "    <tr>\n",
       "      <th>3</th>\n",
       "      <td>11000</td>\n",
       "      <td>15000</td>\n",
       "      <td>Annie Lööf</td>\n",
       "      <td>Jag tycker det är för mycket storstadsfokus i ...</td>\n",
       "    </tr>\n",
       "    <tr>\n",
       "      <th>4</th>\n",
       "      <td>15000</td>\n",
       "      <td>20000</td>\n",
       "      <td>Annie Lööf</td>\n",
       "      <td>För tar vi oss ut på landsbygden så är det ju ...</td>\n",
       "    </tr>\n",
       "    <tr>\n",
       "      <th>5</th>\n",
       "      <td>20000</td>\n",
       "      <td>22000</td>\n",
       "      <td>Annie Lööf</td>\n",
       "      <td>Det är byskolan på landsbygden.</td>\n",
       "    </tr>\n",
       "    <tr>\n",
       "      <th>6</th>\n",
       "      <td>22000</td>\n",
       "      <td>26000</td>\n",
       "      <td>Annie Lööf</td>\n",
       "      <td>Det är att en äldre inte ska få välja vilken h...</td>\n",
       "    </tr>\n",
       "    <tr>\n",
       "      <th>7</th>\n",
       "      <td>26000</td>\n",
       "      <td>29000</td>\n",
       "      <td>Annie Lööf</td>\n",
       "      <td>Det är viktigt att satsa på kvalitet.</td>\n",
       "    </tr>\n",
       "    <tr>\n",
       "      <th>8</th>\n",
       "      <td>29000</td>\n",
       "      <td>32000</td>\n",
       "      <td>Annie Lööf</td>\n",
       "      <td>Jag är stolt över svensk sjukvård, svensk omso...</td>\n",
       "    </tr>\n",
       "    <tr>\n",
       "      <th>9</th>\n",
       "      <td>32000</td>\n",
       "      <td>36000</td>\n",
       "      <td>Annie Lööf</td>\n",
       "      <td>Vi ska ha hög kvalitet, skärpta krav och se ti...</td>\n",
       "    </tr>\n",
       "  </tbody>\n",
       "</table>\n",
       "</div>"
      ],
      "text/plain": [
       "   start    end     speaker                                               text\n",
       "0      0   4000  Annie Lööf                     Det är 16 000 äldre som har...\n",
       "1   4000   7000  Annie Lööf                   ...bo på särskilda äldreboenden.\n",
       "2   7000  11000  Annie Lööf  Och varannat besök på en vårdcentral görs hos ...\n",
       "3  11000  15000  Annie Lööf  Jag tycker det är för mycket storstadsfokus i ...\n",
       "4  15000  20000  Annie Lööf  För tar vi oss ut på landsbygden så är det ju ...\n",
       "5  20000  22000  Annie Lööf                    Det är byskolan på landsbygden.\n",
       "6  22000  26000  Annie Lööf  Det är att en äldre inte ska få välja vilken h...\n",
       "7  26000  29000  Annie Lööf              Det är viktigt att satsa på kvalitet.\n",
       "8  29000  32000  Annie Lööf  Jag är stolt över svensk sjukvård, svensk omso...\n",
       "9  32000  36000  Annie Lööf  Vi ska ha hög kvalitet, skärpta krav och se ti..."
      ]
     },
     "execution_count": 29,
     "metadata": {},
     "output_type": "execute_result"
    }
   ],
   "source": [
    "# Handle offset/misalignment in speech-to-text\n",
    "\n",
    "offset = 200    # milliseconds\n",
    "\n",
    "# Calculate offset based on timestamps in team transcription and audio\n",
    "hour_teams, minute_teams, second_teams = 0, 2, 46\n",
    "milli_teams = int(hour_teams * 60*60*1000 + minute_teams * 60*1000 + second_teams * 1000)\n",
    "\n",
    "hour_audio, minute_audio, second_audio = 0, 2, 50\n",
    "milli_audio = int(hour_audio * 60*60*1000 + minute_audio * 60*1000 + second_audio * 1000)\n",
    "\n",
    "#offset = milli_audio - milli_teams\n",
    "print(offset)\n",
    "\n",
    "# Make an empty column for speaker\n",
    "df_whisper[\"speaker\"] = np.zeros(df_whisper.shape[0])\n",
    "\n",
    "# Loop over all rows in whisper transcription\n",
    "for i in range(df_whisper.shape[0]):\n",
    "    start1, end1 = df_whisper[[\"start\", \"end\"]].iloc[i]\n",
    "\n",
    "    # Find the row in team transcription with the most overlap with the current row in whisper transcription\n",
    "    amount_of_overlap = df_teams.apply(lambda row: find_overlap(start1=start1, end1=end1, \n",
    "                                        start2=row[\"start\"]+offset, \n",
    "                                        end2=row[\"end\"]+offset), \n",
    "                                        axis=1)\n",
    "    \n",
    "    # Get index of row with most overlap\n",
    "    index_max = np.argmax(amount_of_overlap)\n",
    "\n",
    "    # Extract speaker from team transcription and add to whisper transcription\n",
    "    speaker = df_teams.loc[index_max, \"speaker\"]\n",
    "    df_whisper.loc[i, \"speaker\"] = speaker\n",
    "\n",
    "# Change column order and save to file\n",
    "df_whisper = df_whisper[[\"start\", \"end\", \"speaker\", \"text\"]]\n",
    "df_whisper.to_csv(os.path.join(folder_path, \"text_whisper_offset_adjusted.tsv\"), index=False, sep=\"\\t\")\n",
    "\n",
    "print(f\"Shape of df: {df_whisper.shape}\")\n",
    "df_whisper.head(10)"
   ]
  },
  {
   "cell_type": "code",
   "execution_count": 17,
   "metadata": {},
   "outputs": [
    {
     "data": {
      "text/plain": [
       "Index(['start', 'end ', 'speaker ', 'text'], dtype='object')"
      ]
     },
     "execution_count": 17,
     "metadata": {},
     "output_type": "execute_result"
    }
   ],
   "source": [
    "df_teams.columns"
   ]
  }
 ],
 "metadata": {
  "kernelspec": {
   "display_name": ".venv",
   "language": "python",
   "name": "python3"
  },
  "language_info": {
   "codemirror_mode": {
    "name": "ipython",
    "version": 3
   },
   "file_extension": ".py",
   "mimetype": "text/x-python",
   "name": "python",
   "nbconvert_exporter": "python",
   "pygments_lexer": "ipython3",
   "version": "3.9.13"
  },
  "orig_nbformat": 4
 },
 "nbformat": 4,
 "nbformat_minor": 2
}
